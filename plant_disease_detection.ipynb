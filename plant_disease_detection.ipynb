{
  "cells": [
    {
      "cell_type": "code",
      "execution_count": null,
      "metadata": {
        "id": "4MCBRKd9_1Av"
      },
      "outputs": [],
      "source": [
        "import random\n",
        "import numpy as np\n",
        "import tensorflow as tf\n",
        "import os\n",
        "import json\n",
        "import matplotlib.pyplot as plt\n",
        "from tensorflow.keras.preprocessing.image import ImageDataGenerator\n",
        "from tensorflow.keras import layers, models\n",
        "from tensorflow.keras.applications import MobileNet\n",
        "from tensorflow.keras.layers import GlobalAveragePooling2D\n",
        "from tensorflow.keras.callbacks import EarlyStopping, ModelCheckpoint\n",
        "from PIL import Image\n",
        "from zipfile import ZipFile\n",
        "\n",
        "# Set seeds for reproducibility\n",
        "random.seed(0)\n",
        "np.random.seed(0)\n",
        "tf.random.set_seed(0)"
      ]
    },
    {
      "cell_type": "code",
      "execution_count": null,
      "metadata": {
        "colab": {
          "base_uri": "https://localhost:8080/"
        },
        "id": "eeJlG97u_3Cq",
        "outputId": "798965ab-ca42-4146-adcf-870af5097ea7"
      },
      "outputs": [
        {
          "name": "stdout",
          "output_type": "stream",
          "text": [
            "Requirement already satisfied: kaggle in /usr/local/lib/python3.10/dist-packages (1.6.14)\n",
            "Requirement already satisfied: six>=1.10 in /usr/local/lib/python3.10/dist-packages (from kaggle) (1.16.0)\n",
            "Requirement already satisfied: certifi>=2023.7.22 in /usr/local/lib/python3.10/dist-packages (from kaggle) (2024.7.4)\n",
            "Requirement already satisfied: python-dateutil in /usr/local/lib/python3.10/dist-packages (from kaggle) (2.8.2)\n",
            "Requirement already satisfied: requests in /usr/local/lib/python3.10/dist-packages (from kaggle) (2.31.0)\n",
            "Requirement already satisfied: tqdm in /usr/local/lib/python3.10/dist-packages (from kaggle) (4.66.4)\n",
            "Requirement already satisfied: python-slugify in /usr/local/lib/python3.10/dist-packages (from kaggle) (8.0.4)\n",
            "Requirement already satisfied: urllib3 in /usr/local/lib/python3.10/dist-packages (from kaggle) (2.0.7)\n",
            "Requirement already satisfied: bleach in /usr/local/lib/python3.10/dist-packages (from kaggle) (6.1.0)\n",
            "Requirement already satisfied: webencodings in /usr/local/lib/python3.10/dist-packages (from bleach->kaggle) (0.5.1)\n",
            "Requirement already satisfied: text-unidecode>=1.3 in /usr/local/lib/python3.10/dist-packages (from python-slugify->kaggle) (1.3)\n",
            "Requirement already satisfied: charset-normalizer<4,>=2 in /usr/local/lib/python3.10/dist-packages (from requests->kaggle) (3.3.2)\n",
            "Requirement already satisfied: idna<4,>=2.5 in /usr/local/lib/python3.10/dist-packages (from requests->kaggle) (3.7)\n"
          ]
        }
      ],
      "source": [
        "# Kaggle API credentials setup\n",
        "!pip install kaggle\n",
        "kaggle_credentails = json.load(open(\"kaggle.json\"))\n",
        "os.environ['KAGGLE_USERNAME'] = kaggle_credentails[\"username\"]\n",
        "os.environ['KAGGLE_KEY'] = kaggle_credentails[\"key\"]"
      ]
    },
    {
      "cell_type": "code",
      "execution_count": null,
      "metadata": {
        "colab": {
          "base_uri": "https://localhost:8080/"
        },
        "id": "MzpYqMaYABKG",
        "outputId": "f8aa4f35-b790-478c-cb28-fc3b105942a4"
      },
      "outputs": [
        {
          "name": "stdout",
          "output_type": "stream",
          "text": [
            "403 - Forbidden - Permission 'datasets.get' was denied\n",
            "unzip:  cannot find or open project-database.zip, project-database.zip.zip or project-database.zip.ZIP.\n"
          ]
        }
      ],
      "source": [
        "!kaggle datasets download -d chaitanyaravijaiswal/project-database\n",
        "!unzip project-database.zip -d project-database"
      ]
    },
    {
      "cell_type": "code",
      "execution_count": null,
      "metadata": {
        "colab": {
          "background_save": true
        },
        "id": "AUAOKPwZABdl",
        "outputId": "7e68d685-b4a5-47bd-9d52-681e31316783"
      },
      "outputs": [
        {
          "ename": "NameError",
          "evalue": "name 'ImageDataGenerator' is not defined",
          "output_type": "error",
          "traceback": [
            "\u001b[0;31m---------------------------------------------------------------------------\u001b[0m",
            "\u001b[0;31mNameError\u001b[0m                                 Traceback (most recent call last)",
            "\u001b[0;32m<ipython-input-2-96d8b0d66ef9>\u001b[0m in \u001b[0;36m<cell line: 7>\u001b[0;34m()\u001b[0m\n\u001b[1;32m      5\u001b[0m \u001b[0mimg_size\u001b[0m \u001b[0;34m=\u001b[0m \u001b[0;36m224\u001b[0m\u001b[0;34m\u001b[0m\u001b[0;34m\u001b[0m\u001b[0m\n\u001b[1;32m      6\u001b[0m \u001b[0mbatch_size\u001b[0m \u001b[0;34m=\u001b[0m \u001b[0;36m16\u001b[0m  \u001b[0;31m# Reduced batch size for faster training\u001b[0m\u001b[0;34m\u001b[0m\u001b[0;34m\u001b[0m\u001b[0m\n\u001b[0;32m----> 7\u001b[0;31m data_gen = ImageDataGenerator(\n\u001b[0m\u001b[1;32m      8\u001b[0m     \u001b[0mrescale\u001b[0m\u001b[0;34m=\u001b[0m\u001b[0;36m1.\u001b[0m\u001b[0;34m/\u001b[0m\u001b[0;36m255\u001b[0m\u001b[0;34m,\u001b[0m\u001b[0;34m\u001b[0m\u001b[0;34m\u001b[0m\u001b[0m\n\u001b[1;32m      9\u001b[0m     \u001b[0mvalidation_split\u001b[0m\u001b[0;34m=\u001b[0m\u001b[0;36m0.2\u001b[0m\u001b[0;34m,\u001b[0m\u001b[0;34m\u001b[0m\u001b[0;34m\u001b[0m\u001b[0m\n",
            "\u001b[0;31mNameError\u001b[0m: name 'ImageDataGenerator' is not defined"
          ]
        }
      ],
      "source": [
        "# Directory setup\n",
        "base_dir = '/content/project-database/project-database/color'\n",
        "\n",
        "# Enhanced Data Augmentation\n",
        "img_size = 224\n",
        "batch_size = 16  # Reduced batch size for faster training\n",
        "data_gen = ImageDataGenerator(\n",
        "    rescale=1./255,\n",
        "    validation_split=0.2,\n",
        "    shear_range=0.2,\n",
        "    zoom_range=0.2,\n",
        "    horizontal_flip=True,\n",
        "    rotation_range=20,\n",
        "    width_shift_range=0.2,\n",
        "    height_shift_range=0.2\n",
        ")\n"
      ]
    },
    {
      "cell_type": "code",
      "execution_count": null,
      "metadata": {
        "colab": {
          "base_uri": "https://localhost:8080/"
        },
        "id": "6gX5wrEFAYqI",
        "outputId": "be0aa610-1801-49c4-9249-aef6b776aae5"
      },
      "outputs": [
        {
          "name": "stdout",
          "output_type": "stream",
          "text": [
            "Found 10660 images belonging to 12 classes.\n",
            "Found 2660 images belonging to 12 classes.\n"
          ]
        }
      ],
      "source": [
        "train_generator = data_gen.flow_from_directory(\n",
        "    base_dir,\n",
        "    target_size=(img_size, img_size),\n",
        "    batch_size=batch_size,\n",
        "    subset='training',\n",
        "    class_mode='categorical'\n",
        ")\n",
        "\n",
        "validation_generator = data_gen.flow_from_directory(\n",
        "    base_dir,\n",
        "    target_size=(img_size, img_size),\n",
        "    batch_size=batch_size,\n",
        "    subset='validation',\n",
        "    class_mode='categorical'\n",
        ")\n"
      ]
    },
    {
      "cell_type": "code",
      "execution_count": null,
      "metadata": {
        "colab": {
          "base_uri": "https://localhost:8080/"
        },
        "id": "SI7SvC3xAbMd",
        "outputId": "09f44ea4-416a-4866-c23f-c3f719d102c7"
      },
      "outputs": [
        {
          "name": "stdout",
          "output_type": "stream",
          "text": [
            "Downloading data from https://storage.googleapis.com/tensorflow/keras-applications/mobilenet/mobilenet_1_0_224_tf_no_top.h5\n",
            "17225924/17225924 [==============================] - 0s 0us/step\n",
            "Model: \"sequential\"\n",
            "_________________________________________________________________\n",
            " Layer (type)                Output Shape              Param #   \n",
            "=================================================================\n",
            " mobilenet_1.00_224 (Functi  (None, 7, 7, 1024)        3228864   \n",
            " onal)                                                           \n",
            "                                                                 \n",
            " global_average_pooling2d (  (None, 1024)              0         \n",
            " GlobalAveragePooling2D)                                         \n",
            "                                                                 \n",
            " dense (Dense)               (None, 256)               262400    \n",
            "                                                                 \n",
            " dense_1 (Dense)             (None, 12)                3084      \n",
            "                                                                 \n",
            "=================================================================\n",
            "Total params: 3494348 (13.33 MB)\n",
            "Trainable params: 265484 (1.01 MB)\n",
            "Non-trainable params: 3228864 (12.32 MB)\n",
            "_________________________________________________________________\n"
          ]
        }
      ],
      "source": [
        "# More Efficient Model Architecture\n",
        "base_model = MobileNet(weights='imagenet', include_top=False, input_shape=(img_size, img_size, 3))\n",
        "base_model.trainable = False  # Freeze the base model\n",
        "\n",
        "model = models.Sequential([\n",
        "    base_model,\n",
        "    GlobalAveragePooling2D(),\n",
        "    layers.Dense(256, activation='relu'),\n",
        "    layers.Dense(train_generator.num_classes, activation='softmax')\n",
        "])\n",
        "\n",
        "model.compile(optimizer='adam', loss='categorical_crossentropy', metrics=['accuracy'])\n",
        "model.summary()"
      ]
    },
    {
      "cell_type": "code",
      "execution_count": null,
      "metadata": {
        "id": "lhDbF8uhAw9J"
      },
      "outputs": [],
      "source": [
        "# Training with More Epochs and Early Stopping\n",
        "early_stopping = EarlyStopping(monitor='val_loss', patience=3, restore_best_weights=True)\n",
        "checkpoint = ModelCheckpoint('best_model.h5', monitor='val_loss', save_best_only=True, mode='min')"
      ]
    },
    {
      "cell_type": "code",
      "execution_count": null,
      "metadata": {
        "colab": {
          "base_uri": "https://localhost:8080/"
        },
        "id": "-r56UGn6A0A7",
        "outputId": "68975e8c-1914-4413-f104-84ecfbd16789"
      },
      "outputs": [
        {
          "name": "stdout",
          "output_type": "stream",
          "text": [
            "Epoch 1/20\n",
            "666/666 [==============================] - 820s 1s/step - loss: 0.0531 - accuracy: 0.9811 - val_loss: 0.0941 - val_accuracy: 0.9736\n",
            "Epoch 2/20\n",
            "666/666 [==============================] - 703s 1s/step - loss: 0.0448 - accuracy: 0.9860 - val_loss: 0.0876 - val_accuracy: 0.9714\n",
            "Epoch 3/20\n",
            "666/666 [==============================] - 705s 1s/step - loss: 0.0420 - accuracy: 0.9854 - val_loss: 0.0454 - val_accuracy: 0.9872\n",
            "Epoch 4/20\n",
            "666/666 [==============================] - 722s 1s/step - loss: 0.0442 - accuracy: 0.9853 - val_loss: 0.0402 - val_accuracy: 0.9846\n",
            "Epoch 5/20\n",
            "666/666 [==============================] - 714s 1s/step - loss: 0.0295 - accuracy: 0.9903 - val_loss: 0.0563 - val_accuracy: 0.9842\n",
            "Epoch 6/20\n",
            "666/666 [==============================] - 713s 1s/step - loss: 0.0354 - accuracy: 0.9892 - val_loss: 0.0580 - val_accuracy: 0.9838\n",
            "Epoch 7/20\n",
            "666/666 [==============================] - 693s 1s/step - loss: 0.0416 - accuracy: 0.9869 - val_loss: 0.0722 - val_accuracy: 0.9770\n"
          ]
        }
      ],
      "source": [
        "history = model.fit(\n",
        "    train_generator,\n",
        "    steps_per_epoch=train_generator.samples // batch_size,\n",
        "    epochs=20,  # Reduced number of epochs\n",
        "    validation_data=validation_generator,\n",
        "    validation_steps=validation_generator.samples // batch_size,\n",
        "    callbacks=[early_stopping, checkpoint]\n",
        ")"
      ]
    },
    {
      "cell_type": "code",
      "execution_count": null,
      "metadata": {
        "id": "RsSmKtxnA2aI"
      },
      "outputs": [],
      "source": [
        "# Fine-Tuning\n",
        "base_model.trainable = True\n",
        "for layer in base_model.layers[:-10]:  # Freeze more layers\n",
        "    layer.trainable = False\n",
        "\n",
        "model.compile(optimizer=tf.keras.optimizers.Adam(learning_rate=1e-5), loss='categorical_crossentropy', metrics=['accuracy'])"
      ]
    },
    {
      "cell_type": "code",
      "execution_count": null,
      "metadata": {
        "colab": {
          "base_uri": "https://localhost:8080/"
        },
        "id": "QvKk_mQlYy8q",
        "outputId": "23f99255-3c72-4307-ee1f-3d0c43227a5b"
      },
      "outputs": [
        {
          "name": "stdout",
          "output_type": "stream",
          "text": [
            "Epoch 1/10\n",
            "666/666 [==============================] - 843s 1s/step - loss: 0.0896 - accuracy: 0.9708 - val_loss: 0.0386 - val_accuracy: 0.9861\n",
            "Epoch 2/10\n",
            "666/666 [==============================] - 824s 1s/step - loss: 0.0588 - accuracy: 0.9808 - val_loss: 0.0325 - val_accuracy: 0.9898\n",
            "Epoch 3/10\n",
            "666/666 [==============================] - 836s 1s/step - loss: 0.0488 - accuracy: 0.9834 - val_loss: 0.0380 - val_accuracy: 0.9883\n",
            "Epoch 4/10\n",
            "666/666 [==============================] - 833s 1s/step - loss: 0.0420 - accuracy: 0.9840 - val_loss: 0.0310 - val_accuracy: 0.9906\n",
            "Epoch 5/10\n",
            "666/666 [==============================] - 826s 1s/step - loss: 0.0439 - accuracy: 0.9854 - val_loss: 0.0228 - val_accuracy: 0.9917\n",
            "Epoch 6/10\n",
            "666/666 [==============================] - 851s 1s/step - loss: 0.0343 - accuracy: 0.9872 - val_loss: 0.0310 - val_accuracy: 0.9921\n",
            "Epoch 7/10\n",
            "666/666 [==============================] - 874s 1s/step - loss: 0.0369 - accuracy: 0.9865 - val_loss: 0.0309 - val_accuracy: 0.9906\n",
            "Epoch 8/10\n",
            "666/666 [==============================] - 806s 1s/step - loss: 0.0304 - accuracy: 0.9891 - val_loss: 0.0294 - val_accuracy: 0.9906\n"
          ]
        }
      ],
      "source": [
        "history = model.fit(\n",
        "    train_generator,\n",
        "    steps_per_epoch=train_generator.samples // batch_size,\n",
        "    epochs=10,\n",
        "    validation_data=validation_generator,\n",
        "    validation_steps=validation_generator.samples // batch_size,\n",
        "    callbacks=[early_stopping, checkpoint]\n",
        ")\n"
      ]
    },
    {
      "cell_type": "code",
      "execution_count": null,
      "metadata": {
        "colab": {
          "base_uri": "https://localhost:8080/"
        },
        "id": "8-RR9RHuY27p",
        "outputId": "d2dc8464-d7b1-4942-e45d-49d751b7d786"
      },
      "outputs": [
        {
          "name": "stdout",
          "output_type": "stream",
          "text": [
            "166/166 [==============================] - 134s 805ms/step - loss: 0.0333 - accuracy: 0.9898\n",
            "Validation Accuracy: 98.98%\n"
          ]
        }
      ],
      "source": [
        "model.load_weights('best_model.h5')\n",
        "val_loss, val_accuracy = model.evaluate(validation_generator, steps=validation_generator.samples // batch_size)\n",
        "print(f\"Validation Accuracy: {val_accuracy * 100:.2f}%\")"
      ]
    },
    {
      "cell_type": "code",
      "execution_count": null,
      "metadata": {
        "id": "aoaF8PYP0d9c"
      },
      "outputs": [],
      "source": [
        "model.save('/content/drive/MyDrive/Colab Notebooks/plant_disease_model.h5')\n"
      ]
    },
    {
      "cell_type": "code",
      "execution_count": null,
      "metadata": {
        "colab": {
          "base_uri": "https://localhost:8080/",
          "height": 472
        },
        "id": "Fsf4qefn2IXD",
        "outputId": "41fbbd9c-65c7-43e1-992f-1d34a75e8d27"
      },
      "outputs": [
        {
          "data": {
            "image/png": "[encoded data removed]",
            "text/plain": [
              "<Figure size 640x480 with 1 Axes>"
            ]
          },
          "metadata": {},
          "output_type": "display_data"
        }
      ],
      "source": [
        "# Plot training & validation accuracy values\n",
        "plt.plot(history.history['accuracy'])\n",
        "plt.plot(history.history['val_accuracy'])\n",
        "plt.title('Model accuracy')\n",
        "plt.ylabel('Accuracy')\n",
        "plt.xlabel('Epoch')\n",
        "plt.legend(['Train', 'Test'], loc='upper left')\n",
        "plt.show()\n"
      ]
    },
    {
      "cell_type": "code",
      "execution_count": null,
      "metadata": {
        "colab": {
          "base_uri": "https://localhost:8080/",
          "height": 472
        },
        "id": "TM9nOP_j2R78",
        "outputId": "0b97eafd-5a3e-462d-fc0e-76b90f00698f"
      },
      "outputs": [
        {
          "data": {
            "image/png": "[encoded data removed]",
            "text/plain": [
              "<Figure size 640x480 with 1 Axes>"
            ]
          },
          "metadata": {},
          "output_type": "display_data"
        }
      ],
      "source": [
        "# Plot training & validation loss values\n",
        "plt.plot(history.history['loss'])\n",
        "plt.plot(history.history['val_loss'])\n",
        "plt.title('Model loss')\n",
        "plt.ylabel('Loss')\n",
        "plt.xlabel('Epoch')\n",
        "plt.legend(['Train', 'Test'], loc='upper left')\n",
        "plt.show()"
      ]
    },
    {
      "cell_type": "code",
      "execution_count": null,
      "metadata": {
        "id": "QwsauuK92YPW"
      },
      "outputs": [],
      "source": [
        "# Function to Load and Preprocess the Image using Pillow\n",
        "def load_and_preprocess_image(image_path, target_size=(224, 224)):\n",
        "    img = Image.open(image_path)\n",
        "    img = img.resize(target_size)\n",
        "    img_array = np.array(img)\n",
        "    img_array = np.expand_dims(img_array, axis=0)\n",
        "    img_array = img_array.astype('float32') / 255.\n",
        "    return img_array"
      ]
    },
    {
      "cell_type": "code",
      "execution_count": null,
      "metadata": {
        "id": "-E_VAPCJ2bop"
      },
      "outputs": [],
      "source": [
        "def predict_image_class(model, image_path, class_indices, threshold=0.5):\n",
        "\n",
        "    preprocessed_img = load_and_preprocess_image(image_path)\n",
        "    predictions = model.predict(preprocessed_img)\n",
        "    predicted_class_index = np.argmax(predictions, axis=1)[0]\n",
        "    confidence = predictions[0][predicted_class_index]\n",
        "\n",
        "    if confidence < threshold:\n",
        "        return \"not detected\"\n",
        "\n",
        "    predicted_class_name = class_indices[predicted_class_index]\n",
        "    return predicted_class_name"
      ]
    },
    {
      "cell_type": "code",
      "execution_count": null,
      "metadata": {
        "colab": {
          "base_uri": "https://localhost:8080/",
          "height": 158
        },
        "id": "iBWJJX8_2fMM",
        "outputId": "be6eb923-f36f-4dfd-ca1d-fab62394812b"
      },
      "outputs": [
        {
          "ename": "NameError",
          "evalue": "name 'train_generator' is not defined",
          "output_type": "error",
          "traceback": [
            "\u001b[0;31m---------------------------------------------------------------------------\u001b[0m",
            "\u001b[0;31mNameError\u001b[0m                                 Traceback (most recent call last)",
            "\u001b[0;32m<ipython-input-9-0e7ce9bc04d5>\u001b[0m in \u001b[0;36m<cell line: 1>\u001b[0;34m()\u001b[0m\n\u001b[0;32m----> 1\u001b[0;31m \u001b[0mclass_indices\u001b[0m \u001b[0;34m=\u001b[0m \u001b[0;34m{\u001b[0m\u001b[0mv\u001b[0m\u001b[0;34m:\u001b[0m \u001b[0mk\u001b[0m \u001b[0;32mfor\u001b[0m \u001b[0mk\u001b[0m\u001b[0;34m,\u001b[0m \u001b[0mv\u001b[0m \u001b[0;32min\u001b[0m \u001b[0mtrain_generator\u001b[0m\u001b[0;34m.\u001b[0m\u001b[0mclass_indices\u001b[0m\u001b[0;34m.\u001b[0m\u001b[0mitems\u001b[0m\u001b[0;34m(\u001b[0m\u001b[0;34m)\u001b[0m\u001b[0;34m}\u001b[0m\u001b[0;34m\u001b[0m\u001b[0;34m\u001b[0m\u001b[0m\n\u001b[0m\u001b[1;32m      2\u001b[0m \u001b[0mjson\u001b[0m\u001b[0;34m.\u001b[0m\u001b[0mdump\u001b[0m\u001b[0;34m(\u001b[0m\u001b[0mclass_indices\u001b[0m\u001b[0;34m,\u001b[0m \u001b[0mopen\u001b[0m\u001b[0;34m(\u001b[0m\u001b[0;34m'class_indices.json'\u001b[0m\u001b[0;34m,\u001b[0m \u001b[0;34m'w'\u001b[0m\u001b[0;34m)\u001b[0m\u001b[0;34m)\u001b[0m\u001b[0;34m\u001b[0m\u001b[0;34m\u001b[0m\u001b[0m\n",
            "\u001b[0;31mNameError\u001b[0m: name 'train_generator' is not defined"
          ]
        }
      ],
      "source": [
        "class_indices = {v: k for k, v in train_generator.class_indices.items()}\n",
        "json.dump(class_indices, open('class_indices.json', 'w'))"
      ]
    },
    {
      "cell_type": "code",
      "execution_count": null,
      "metadata": {
        "colab": {
          "base_uri": "https://localhost:8080/"
        },
        "id": "JxSBISI02iIU",
        "outputId": "a004a618-8f24-4c04-ecfb-fbe92cd2bbda"
      },
      "outputs": [
        {
          "name": "stdout",
          "output_type": "stream",
          "text": [
            "1/1 [==============================] - 0s 93ms/step\n",
            "Predicted Class Name: Peach___Bacterial_spot\n"
          ]
        }
      ],
      "source": [
        "# Example Usage\n",
        "image_path ='/content/Black_Leaf_Streak.jpg'\n",
        "predicted_class_name = predict_image_class(model, image_path, class_indices)\n",
        "print(\"Predicted Class Name:\", predicted_class_name)"
      ]
    },
    {
      "cell_type": "code",
      "execution_count": null,
      "metadata": {
        "colab": {
          "base_uri": "https://localhost:8080/"
        },
        "id": "hj7MX9Pwx2aN",
        "outputId": "45b36688-b068-4c15-e999-82c8c48c5a2a"
      },
      "outputs": [
        {
          "output_type": "stream",
          "name": "stdout",
          "text": [
            "Model loaded successfully!\n",
            "1/1 [==============================] - 1s 1s/step\n",
            "2\n",
            "(1, 12)\n",
            "Prediction: Corn_(maize)___Northern_Leaf_Blight\n"
          ]
        }
      ],
      "source": [
        "import os\n",
        "import json\n",
        "from PIL import Image\n",
        "import numpy as np\n",
        "import tensorflow as tf\n",
        "\n",
        "# Path to the saved model on Google Drive\n",
        "model_path = '/content/drive/MyDrive/Colab Notebooks/plant_disease_model.h5'\n",
        "\n",
        "# Load the pre-trained model\n",
        "model = tf.keras.models.load_model(model_path)\n",
        "print(\"Model loaded successfully!\")\n",
        "\n",
        "# Paths to class indices and remedies JSON files\n",
        "class_indices_path = '/content/drive/MyDrive/Colab Notebooks/class_indices.json'\n",
        "remedies_path = '/content/drive/MyDrive/Colab Notebooks/remedies.json'\n",
        "\n",
        "# Load the class names\n",
        "with open(class_indices_path, 'r') as f:\n",
        "    class_indices = json.load(f)\n",
        "\n",
        "# Load the remedies\n",
        "with open(remedies_path, 'r') as f:\n",
        "    remedies = json.load(f)\n",
        "\n",
        "# Function to load and preprocess the image using Pillow\n",
        "def load_and_preprocess_image(image_path, target_size=(224, 224)):\n",
        "    img = Image.open(image_path)\n",
        "    img = img.resize(target_size)\n",
        "    img_array = np.array(img)\n",
        "    img_array = np.expand_dims(img_array, axis=0)\n",
        "    img_array = img_array.astype('float32') / 255.0\n",
        "    return img_array\n",
        "\n",
        "# Function to predict the class of an image\n",
        "def predict_image_class(model, image_path, class_indices):\n",
        "    preprocessed_img = load_and_preprocess_image(image_path)\n",
        "    predictions = model.predict(preprocessed_img)\n",
        "    predicted_class_index = np.argmax(predictions, axis=1)[0]\n",
        "    predicted_class_name = class_indices[str(predicted_class_index)]\n",
        "    print(predicted_class_index)\n",
        "    print(predictions.shape)\n",
        "    return predicted_class_name\n",
        "\n",
        "# Example usage: Replace 'example_image.jpg' with the path to your image\n",
        "image_path = '/content/CNLB 1.jpg'  # Upload your image to Colab or use a path from Google Drive\n",
        "prediction = predict_image_class(model, image_path, class_indices)\n",
        "print(f'Prediction: {prediction}')"
      ]
    },
    {
      "cell_type": "code",
      "source": [
        "from google.colab import drive\n",
        "drive.mount('/content/drive')"
      ],
      "metadata": {
        "colab": {
          "base_uri": "https://localhost:8080/"
        },
        "id": "AmAMxkLCLDXg",
        "outputId": "c70562fa-bfcd-41e8-aaf9-de2c35c448c0"
      },
      "execution_count": null,
      "outputs": [
        {
          "output_type": "stream",
          "name": "stdout",
          "text": [
            "Mounted at /content/drive\n"
          ]
        }
      ]
    }
  ],
  "metadata": {
    "colab": {
      "provenance": []
    },
    "kernelspec": {
      "display_name": "Python 3",
      "name": "python3"
    },
    "language_info": {
      "name": "python"
    }
  },
  "nbformat": 4,
  "nbformat_minor": 0
}